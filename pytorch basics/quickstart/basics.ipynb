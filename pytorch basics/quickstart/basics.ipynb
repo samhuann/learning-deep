{
 "cells": [
  {
   "cell_type": "code",
   "execution_count": 5,
   "id": "90eefaa0",
   "metadata": {},
   "outputs": [],
   "source": [
    "import torch\n",
    "from torch import nn\n",
    "from torchvision import datasets\n",
    "from torchvision.transforms import ToTensor\n",
    "from torch.utils.data import DataLoader"
   ]
  },
  {
   "cell_type": "code",
   "execution_count": null,
   "id": "23a66ee0",
   "metadata": {},
   "outputs": [
    {
     "name": "stderr",
     "output_type": "stream",
     "text": [
      "100%|██████████| 26.4M/26.4M [02:06<00:00, 209kB/s] \n",
      "100%|██████████| 29.5k/29.5k [00:00<00:00, 322kB/s]\n",
      "100%|██████████| 4.42M/4.42M [00:03<00:00, 1.47MB/s]\n",
      "100%|██████████| 5.15k/5.15k [00:00<00:00, 24.0MB/s]\n"
     ]
    }
   ],
   "source": [
    "training_data = datasets.FashionMNIST(\n",
    "    root = \"data\", #root directory for data\n",
    "    train= True, #load training dataset\n",
    "    download=True,\n",
    "    transform=ToTensor(), #convert image into a tensor and normalize\n",
    ")\n",
    "\n",
    "test_data = datasets.FashionMNIST(\n",
    "    root=\"data\",\n",
    "    train = False,\n",
    "    download = True,\n",
    "    transform = ToTensor(),\n",
    ")"
   ]
  },
  {
   "cell_type": "code",
   "execution_count": 3,
   "id": "899f8333",
   "metadata": {},
   "outputs": [
    {
     "name": "stdout",
     "output_type": "stream",
     "text": [
      "Torch version: 2.7.1+cu118\n",
      "CUDA available: True\n",
      "GPU name: NVIDIA GeForce RTX 4070 Laptop GPU\n"
     ]
    }
   ],
   "source": [
    "print(\"Torch version:\", torch.__version__)\n",
    "print(\"CUDA available:\", torch.cuda.is_available())\n",
    "print(\"GPU name:\", torch.cuda.get_device_name(0) if torch.cuda.is_available() else \"N/A\")"
   ]
  },
  {
   "cell_type": "code",
   "execution_count": null,
   "id": "90b37622",
   "metadata": {},
   "outputs": [
    {
     "name": "stdout",
     "output_type": "stream",
     "text": [
      "Shape of X [N, C, H, W]: torch.Size([64, 1, 28, 28])\n",
      "Shape of y: torch.Size([64]) torch.int64\n"
     ]
    }
   ],
   "source": [
    "batch_size = 64\n",
    "\n",
    "train_data_loader = DataLoader(training_data, batch_size= batch_size) #wraps iterable\n",
    "test_data_loader = DataLoader(test_data, batch_size=batch_size)\n",
    "\n",
    "for X, y in test_data_loader: \n",
    "    print(f\"Shape of X [N, C, H, W]: {X.shape}\")\n",
    "    print(f\"Shape of y: {y.shape} {y.dtype}\")\n",
    "    break\n",
    "\n",
    "#return a batch of 64 features and labels"
   ]
  },
  {
   "cell_type": "code",
   "execution_count": null,
   "id": "1432a425",
   "metadata": {},
   "outputs": [
    {
     "name": "stdout",
     "output_type": "stream",
     "text": [
      "Using cuda device\n",
      "NeuralNetwork(\n",
      "  (flatten): Flatten(start_dim=1, end_dim=-1)\n",
      "  (linear_relu_stack): Sequential(\n",
      "    (0): Linear(in_features=784, out_features=512, bias=True)\n",
      "    (1): ReLU()\n",
      "    (2): Linear(in_features=512, out_features=512, bias=True)\n",
      "    (3): ReLU()\n",
      "    (4): Linear(in_features=512, out_features=10, bias=True)\n",
      "  )\n",
      ")\n"
     ]
    }
   ],
   "source": [
    "device = torch.accelerator.current_accelerator().type if torch.accelerator.is_available() else \"cpu\"\n",
    "print(\"Using \" + device + \" device\")\n",
    "\n",
    "class NeuralNetwork(nn.Module):\n",
    "    def __init__(self):\n",
    "        super().__init__()\n",
    "        self.flatten = nn.Flatten() #create 1D vector, like a function\n",
    "        self.linear_relu_stack = nn.Sequential(#stack layers sequentially\n",
    "            nn.Linear(28*28, 512), #take input of size 28x28, which is size of image in dataset\n",
    "            nn.ReLU(), #add relu activation function to layer\n",
    "            nn.Linear(512,512),\n",
    "            nn.ReLU(),\n",
    "            nn.Linear(512,10)\n",
    "        )\n",
    "    \n",
    "    def forward(self, x):\n",
    "        x = self.flatten(x) #pass into flatten\n",
    "        logits = self.linear_relu_stack(x) #pass into nn\n",
    "        return logits\n",
    "    \n",
    "model = NeuralNetwork().to(device) #create instance of neural network class and send to gpu\n",
    "print(model)#print summary of network\n",
    "\n"
   ]
  },
  {
   "cell_type": "code",
   "execution_count": 13,
   "id": "67dd4c0a",
   "metadata": {},
   "outputs": [],
   "source": [
    "loss_fn = nn.CrossEntropyLoss()\n",
    "optimizer = torch.optim.SGD(model.parameters(), lr=1e-3) #lr=learning rate, this uses stochastic gradient descent"
   ]
  },
  {
   "cell_type": "code",
   "execution_count": null,
   "id": "71f11edf",
   "metadata": {},
   "outputs": [],
   "source": [
    "def train(dataloader, model, lossfn, optimizer):\n",
    "    size = len(dataloader.dataset) #get count of items \n",
    "    model.train() #set to training mode\n",
    "    for batch, (X,y) in enumerate(dataloader): #enumerate: keep track of index\n",
    "        X, y = X.to(device), y.to(device)\n",
    "        pred = model(X) #invoke forward method\n",
    "        loss = loss_fn(pred, y)#pass through loss function\n",
    "\n",
    "        #do backpropogation\n",
    "        loss.backward() #compute gradients\n",
    "        optimizer.step() #update model parameters\n",
    "        optimizer.zero_grad() #reset gradients to zero\n",
    "\n",
    "        if batch % 100 == 0:\n",
    "            loss, current = loss.item(), (batch + 1)*len(X) #convert loss tensor into a float, and also calculate how many samples so far.\n",
    "            print(f\"loss:{loss:>7f} [{current:>5d}/{size:>5d}]\")\n"
   ]
  },
  {
   "cell_type": "code",
   "execution_count": 16,
   "id": "4b504161",
   "metadata": {},
   "outputs": [],
   "source": [
    "def test(dataloader, model, loss_fn):\n",
    "    size = len(dataloader.dataset)\n",
    "    num_batches = len(dataloader)\n",
    "    model.eval() #set to evaluation mode\n",
    "    test_loss, correct = 0,0\n",
    "    with torch.no_grad(): #don't use gradient computation\n",
    "        for X, y in dataloader:\n",
    "            X, y = X.to(device), y.to(device)\n",
    "            pred = model(X)\n",
    "            test_loss += loss_fn(pred,y).item() #compare pred and y, and extract float\n",
    "            correct += (pred.argmax(1) == y).type(torch.float).sum().item() #if correct, convert to 1 or 0, then add up all in batch\n",
    "    test_loss /= num_batches\n",
    "    correct /= size\n",
    "\n",
    "    print(f\"Test Error: \\n Accuracy: {(100*correct):>0.1f}%, Avg loss: {test_loss:>8f} \\n\")  \n",
    "    "
   ]
  },
  {
   "cell_type": "code",
   "execution_count": 18,
   "id": "fc28ee6f",
   "metadata": {},
   "outputs": [
    {
     "name": "stdout",
     "output_type": "stream",
     "text": [
      "Epoch 1\n",
      "-----------------\n",
      "loss:2.165380 [   64/60000]\n",
      "loss:2.150838 [ 6464/60000]\n",
      "loss:2.090293 [12864/60000]\n",
      "loss:2.105324 [19264/60000]\n",
      "loss:2.056660 [25664/60000]\n",
      "loss:1.995659 [32064/60000]\n",
      "loss:2.022358 [38464/60000]\n",
      "loss:1.940792 [44864/60000]\n",
      "loss:1.958275 [51264/60000]\n",
      "loss:1.865980 [57664/60000]\n",
      "Test Error: \n",
      " Accuracy: 52.3%, Avg loss: 1.870027 \n",
      "\n",
      "Epoch 2\n",
      "-----------------\n",
      "loss:1.911151 [   64/60000]\n",
      "loss:1.876100 [ 6464/60000]\n",
      "loss:1.757361 [12864/60000]\n",
      "loss:1.792996 [19264/60000]\n",
      "loss:1.693117 [25664/60000]\n",
      "loss:1.645213 [32064/60000]\n",
      "loss:1.658052 [38464/60000]\n",
      "loss:1.560817 [44864/60000]\n",
      "loss:1.594376 [51264/60000]\n",
      "loss:1.477263 [57664/60000]\n",
      "Test Error: \n",
      " Accuracy: 59.1%, Avg loss: 1.503812 \n",
      "\n",
      "Epoch 3\n",
      "-----------------\n",
      "loss:1.576519 [   64/60000]\n",
      "loss:1.538573 [ 6464/60000]\n",
      "loss:1.392740 [12864/60000]\n",
      "loss:1.455864 [19264/60000]\n",
      "loss:1.357539 [25664/60000]\n",
      "loss:1.347363 [32064/60000]\n",
      "loss:1.352243 [38464/60000]\n",
      "loss:1.278604 [44864/60000]\n",
      "loss:1.320377 [51264/60000]\n",
      "loss:1.214439 [57664/60000]\n",
      "Test Error: \n",
      " Accuracy: 62.8%, Avg loss: 1.247252 \n",
      "\n",
      "Epoch 4\n",
      "-----------------\n",
      "loss:1.327067 [   64/60000]\n",
      "loss:1.305354 [ 6464/60000]\n",
      "loss:1.147045 [12864/60000]\n",
      "loss:1.240997 [19264/60000]\n",
      "loss:1.139341 [25664/60000]\n",
      "loss:1.155269 [32064/60000]\n",
      "loss:1.165944 [38464/60000]\n",
      "loss:1.103473 [44864/60000]\n",
      "loss:1.149544 [51264/60000]\n",
      "loss:1.059888 [57664/60000]\n",
      "Test Error: \n",
      " Accuracy: 64.4%, Avg loss: 1.086871 \n",
      "\n",
      "Epoch 5\n",
      "-----------------\n",
      "loss:1.158286 [   64/60000]\n",
      "loss:1.157463 [ 6464/60000]\n",
      "loss:0.983464 [12864/60000]\n",
      "loss:1.105759 [19264/60000]\n",
      "loss:1.002108 [25664/60000]\n",
      "loss:1.025250 [32064/60000]\n",
      "loss:1.049372 [38464/60000]\n",
      "loss:0.989842 [44864/60000]\n",
      "loss:1.036458 [51264/60000]\n",
      "loss:0.961726 [57664/60000]\n",
      "Test Error: \n",
      " Accuracy: 65.7%, Avg loss: 0.981734 \n",
      "\n",
      "Done!\n"
     ]
    }
   ],
   "source": [
    "epochs = 5\n",
    "for t in range(epochs):\n",
    "    print(f\"Epoch {t+1}\\n-----------------\")\n",
    "    train(train_data_loader, model, loss_fn, optimizer) #use training dataset, use neural network we defined, the loss we defined, and optimizer\n",
    "    test(test_data_loader, model, loss_fn)\n",
    "\n",
    "print(\"Done!\")"
   ]
  },
  {
   "cell_type": "code",
   "execution_count": 19,
   "id": "ad8d8d50",
   "metadata": {},
   "outputs": [
    {
     "name": "stdout",
     "output_type": "stream",
     "text": [
      "Saved PyTorch Model State to model.pth\n"
     ]
    }
   ],
   "source": [
    "torch.save(model.state_dict(),\"model.pth\")\n",
    "print(\"Saved PyTorch Model State to model.pth\")"
   ]
  },
  {
   "cell_type": "code",
   "execution_count": 20,
   "id": "e9d4ec91",
   "metadata": {},
   "outputs": [
    {
     "data": {
      "text/plain": [
       "<All keys matched successfully>"
      ]
     },
     "execution_count": 20,
     "metadata": {},
     "output_type": "execute_result"
    }
   ],
   "source": [
    "model = NeuralNetwork().to(device)\n",
    "model.load_state_dict(torch.load(\"model.pth\", weights_only=True))"
   ]
  },
  {
   "cell_type": "code",
   "execution_count": null,
   "id": "03dce861",
   "metadata": {},
   "outputs": [],
   "source": []
  }
 ],
 "metadata": {
  "kernelspec": {
   "display_name": "venv",
   "language": "python",
   "name": "python3"
  },
  "language_info": {
   "codemirror_mode": {
    "name": "ipython",
    "version": 3
   },
   "file_extension": ".py",
   "mimetype": "text/x-python",
   "name": "python",
   "nbconvert_exporter": "python",
   "pygments_lexer": "ipython3",
   "version": "3.13.3"
  }
 },
 "nbformat": 4,
 "nbformat_minor": 5
}
